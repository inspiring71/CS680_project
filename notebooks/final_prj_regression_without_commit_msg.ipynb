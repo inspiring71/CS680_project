{
  "nbformat": 4,
  "nbformat_minor": 0,
  "metadata": {
    "accelerator": "GPU",
    "colab": {
      "name": "final_prj_regression_without_commit_msg.ipynb",
      "provenance": [],
      "collapsed_sections": []
    },
    "kernelspec": {
      "display_name": "Python 3",
      "name": "python3"
    }
  },
  "cells": [
    {
      "cell_type": "code",
      "metadata": {
        "colab": {
          "base_uri": "https://localhost:8080/"
        },
        "id": "_Xol0L8o9Fza",
        "outputId": "4e79b99d-ffd3-4a86-ef3c-7f34ab6083a8"
      },
      "source": [
        "! pip install tokenizers\r\n",
        "! pip install transformers\r\n",
        "!pip install bert-for-tf2\r\n"
      ],
      "execution_count": 1,
      "outputs": [
        {
          "output_type": "stream",
          "text": [
            "Collecting tokenizers\n",
            "\u001b[?25l  Downloading https://files.pythonhosted.org/packages/0f/1c/e789a8b12e28be5bc1ce2156cf87cb522b379be9cadc7ad8091a4cc107c4/tokenizers-0.9.4-cp36-cp36m-manylinux2010_x86_64.whl (2.9MB)\n",
            "\u001b[K     |████████████████████████████████| 2.9MB 8.0MB/s \n",
            "\u001b[?25hInstalling collected packages: tokenizers\n",
            "Successfully installed tokenizers-0.9.4\n",
            "Collecting transformers\n",
            "\u001b[?25l  Downloading https://files.pythonhosted.org/packages/50/0c/7d5950fcd80b029be0a8891727ba21e0cd27692c407c51261c3c921f6da3/transformers-4.1.1-py3-none-any.whl (1.5MB)\n",
            "\u001b[K     |████████████████████████████████| 1.5MB 9.2MB/s \n",
            "\u001b[?25hRequirement already satisfied: numpy in /usr/local/lib/python3.6/dist-packages (from transformers) (1.19.4)\n",
            "Collecting sacremoses\n",
            "\u001b[?25l  Downloading https://files.pythonhosted.org/packages/7d/34/09d19aff26edcc8eb2a01bed8e98f13a1537005d31e95233fd48216eed10/sacremoses-0.0.43.tar.gz (883kB)\n",
            "\u001b[K     |████████████████████████████████| 890kB 28.2MB/s \n",
            "\u001b[?25hRequirement already satisfied: packaging in /usr/local/lib/python3.6/dist-packages (from transformers) (20.8)\n",
            "Requirement already satisfied: filelock in /usr/local/lib/python3.6/dist-packages (from transformers) (3.0.12)\n",
            "Requirement already satisfied: tokenizers==0.9.4 in /usr/local/lib/python3.6/dist-packages (from transformers) (0.9.4)\n",
            "Requirement already satisfied: requests in /usr/local/lib/python3.6/dist-packages (from transformers) (2.23.0)\n",
            "Requirement already satisfied: regex!=2019.12.17 in /usr/local/lib/python3.6/dist-packages (from transformers) (2019.12.20)\n",
            "Requirement already satisfied: tqdm>=4.27 in /usr/local/lib/python3.6/dist-packages (from transformers) (4.41.1)\n",
            "Requirement already satisfied: dataclasses; python_version < \"3.7\" in /usr/local/lib/python3.6/dist-packages (from transformers) (0.8)\n",
            "Requirement already satisfied: six in /usr/local/lib/python3.6/dist-packages (from sacremoses->transformers) (1.15.0)\n",
            "Requirement already satisfied: click in /usr/local/lib/python3.6/dist-packages (from sacremoses->transformers) (7.1.2)\n",
            "Requirement already satisfied: joblib in /usr/local/lib/python3.6/dist-packages (from sacremoses->transformers) (1.0.0)\n",
            "Requirement already satisfied: pyparsing>=2.0.2 in /usr/local/lib/python3.6/dist-packages (from packaging->transformers) (2.4.7)\n",
            "Requirement already satisfied: idna<3,>=2.5 in /usr/local/lib/python3.6/dist-packages (from requests->transformers) (2.10)\n",
            "Requirement already satisfied: chardet<4,>=3.0.2 in /usr/local/lib/python3.6/dist-packages (from requests->transformers) (3.0.4)\n",
            "Requirement already satisfied: urllib3!=1.25.0,!=1.25.1,<1.26,>=1.21.1 in /usr/local/lib/python3.6/dist-packages (from requests->transformers) (1.24.3)\n",
            "Requirement already satisfied: certifi>=2017.4.17 in /usr/local/lib/python3.6/dist-packages (from requests->transformers) (2020.12.5)\n",
            "Building wheels for collected packages: sacremoses\n",
            "  Building wheel for sacremoses (setup.py) ... \u001b[?25l\u001b[?25hdone\n",
            "  Created wheel for sacremoses: filename=sacremoses-0.0.43-cp36-none-any.whl size=893261 sha256=bfff3604730b617566b16ceafb02262def7ce8f73a14aae8bbbb98afc3620c8d\n",
            "  Stored in directory: /root/.cache/pip/wheels/29/3c/fd/7ce5c3f0666dab31a50123635e6fb5e19ceb42ce38d4e58f45\n",
            "Successfully built sacremoses\n",
            "Installing collected packages: sacremoses, transformers\n",
            "Successfully installed sacremoses-0.0.43 transformers-4.1.1\n",
            "Collecting bert-for-tf2\n",
            "\u001b[?25l  Downloading https://files.pythonhosted.org/packages/18/d3/820ccaf55f1e24b5dd43583ac0da6d86c2d27bbdfffadbba69bafe73ca93/bert-for-tf2-0.14.7.tar.gz (41kB)\n",
            "\u001b[K     |████████████████████████████████| 51kB 6.1MB/s \n",
            "\u001b[?25hCollecting py-params>=0.9.6\n",
            "  Downloading https://files.pythonhosted.org/packages/a4/bf/c1c70d5315a8677310ea10a41cfc41c5970d9b37c31f9c90d4ab98021fd1/py-params-0.9.7.tar.gz\n",
            "Collecting params-flow>=0.8.0\n",
            "  Downloading https://files.pythonhosted.org/packages/a9/95/ff49f5ebd501f142a6f0aaf42bcfd1c192dc54909d1d9eb84ab031d46056/params-flow-0.8.2.tar.gz\n",
            "Requirement already satisfied: numpy in /usr/local/lib/python3.6/dist-packages (from params-flow>=0.8.0->bert-for-tf2) (1.19.4)\n",
            "Requirement already satisfied: tqdm in /usr/local/lib/python3.6/dist-packages (from params-flow>=0.8.0->bert-for-tf2) (4.41.1)\n",
            "Building wheels for collected packages: bert-for-tf2, py-params, params-flow\n",
            "  Building wheel for bert-for-tf2 (setup.py) ... \u001b[?25l\u001b[?25hdone\n",
            "  Created wheel for bert-for-tf2: filename=bert_for_tf2-0.14.7-cp36-none-any.whl size=30537 sha256=04c780169494aab6a569fd5d2f4e6dbe2980187a73d5402e3ed3aed4767d0f56\n",
            "  Stored in directory: /root/.cache/pip/wheels/e1/f8/e2/b98f79a6b8cc898d8e4102b83acb8a098df7d27500a2bac912\n",
            "  Building wheel for py-params (setup.py) ... \u001b[?25l\u001b[?25hdone\n",
            "  Created wheel for py-params: filename=py_params-0.9.7-cp36-none-any.whl size=7303 sha256=dcb2355ffc783fd921a810ca1130efec7986d20a7098219739f66f2295c724a1\n",
            "  Stored in directory: /root/.cache/pip/wheels/67/f5/19/b461849a50aefdf4bab47c4756596e82ee2118b8278e5a1980\n",
            "  Building wheel for params-flow (setup.py) ... \u001b[?25l\u001b[?25hdone\n",
            "  Created wheel for params-flow: filename=params_flow-0.8.2-cp36-none-any.whl size=19474 sha256=ba6ac59bd1aa5f84f89b65f2d53a3fa1e616e98885665938534c05b3ebf4e301\n",
            "  Stored in directory: /root/.cache/pip/wheels/08/c8/7f/81c86b9ff2b86e2c477e3914175be03e679e596067dc630c06\n",
            "Successfully built bert-for-tf2 py-params params-flow\n",
            "Installing collected packages: py-params, params-flow, bert-for-tf2\n",
            "Successfully installed bert-for-tf2-0.14.7 params-flow-0.8.2 py-params-0.9.7\n"
          ],
          "name": "stdout"
        }
      ]
    },
    {
      "cell_type": "code",
      "metadata": {
        "colab": {
          "base_uri": "https://localhost:8080/"
        },
        "id": "5xUFb3WHiG8w",
        "outputId": "d1cd9457-88a0-4250-d379-b1cbfbadafb1"
      },
      "source": [
        "import numpy as np\r\n",
        "import pandas as pd\r\n",
        "from sklearn.preprocessing import LabelEncoder\r\n",
        "from sklearn.model_selection import train_test_split\r\n",
        "from sklearn.preprocessing import StandardScaler\r\n",
        "from keras.models import Model\r\n",
        "from keras import layers\r\n",
        "from keras.layers import Input\r\n",
        "from keras import optimizers\r\n",
        "import matplotlib.pyplot as plt\r\n",
        "import csv\r\n",
        "!pip install bert-for-tf2\r\n",
        "import bert\r\n"
      ],
      "execution_count": 2,
      "outputs": [
        {
          "output_type": "stream",
          "text": [
            "Requirement already satisfied: bert-for-tf2 in /usr/local/lib/python3.6/dist-packages (0.14.7)\n",
            "Requirement already satisfied: py-params>=0.9.6 in /usr/local/lib/python3.6/dist-packages (from bert-for-tf2) (0.9.7)\n",
            "Requirement already satisfied: params-flow>=0.8.0 in /usr/local/lib/python3.6/dist-packages (from bert-for-tf2) (0.8.2)\n",
            "Requirement already satisfied: numpy in /usr/local/lib/python3.6/dist-packages (from params-flow>=0.8.0->bert-for-tf2) (1.19.4)\n",
            "Requirement already satisfied: tqdm in /usr/local/lib/python3.6/dist-packages (from params-flow>=0.8.0->bert-for-tf2) (4.41.1)\n"
          ],
          "name": "stdout"
        }
      ]
    },
    {
      "cell_type": "code",
      "metadata": {
        "id": "rwDI-0WMiI22"
      },
      "source": [
        "np.random.seed(80)"
      ],
      "execution_count": 3,
      "outputs": []
    },
    {
      "cell_type": "code",
      "metadata": {
        "colab": {
          "resources": {
            "http://localhost:8080/nbextensions/google.colab/files.js": {
              "data": "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",
              "ok": true,
              "headers": [
                [
                  "content-type",
                  "application/javascript"
                ]
              ],
              "status": 200,
              "status_text": ""
            }
          },
          "base_uri": "https://localhost:8080/",
          "height": 108
        },
        "id": "PZwFkPSBAivz",
        "outputId": "927a7a38-642e-42b0-a1a9-4e0712ec38dc"
      },
      "source": [
        "from google.colab import files\r\n",
        "uploaded = files.upload()"
      ],
      "execution_count": 4,
      "outputs": [
        {
          "output_type": "display_data",
          "data": {
            "text/html": [
              "\n",
              "     <input type=\"file\" id=\"files-39d56a2a-dad4-4623-ae9b-e4d0ee59c82a\" name=\"files[]\" multiple disabled\n",
              "        style=\"border:none\" />\n",
              "     <output id=\"result-39d56a2a-dad4-4623-ae9b-e4d0ee59c82a\">\n",
              "      Upload widget is only available when the cell has been executed in the\n",
              "      current browser session. Please rerun this cell to enable.\n",
              "      </output>\n",
              "      <script src=\"/nbextensions/google.colab/files.js\"></script> "
            ],
            "text/plain": [
              "<IPython.core.display.HTML object>"
            ]
          },
          "metadata": {
            "tags": []
          }
        },
        {
          "output_type": "stream",
          "text": [
            "Saving inputs.csv to inputs.csv\n",
            "Saving outputs.csv to outputs.csv\n"
          ],
          "name": "stdout"
        }
      ]
    },
    {
      "cell_type": "code",
      "metadata": {
        "id": "h_co_njtiIyk",
        "colab": {
          "base_uri": "https://localhost:8080/"
        },
        "outputId": "2401d542-cb4b-47ce-c6d9-381d216f3fdd"
      },
      "source": [
        "df_in = pd.read_csv('inputs.csv', na_values=\"NONE\" )\r\n",
        "df_target = pd.read_csv('outputs.csv', na_values=\"NONE\" )\r\n",
        "\r\n",
        "# df_target = pd.read_csv('class_output.csv', na_values=\"NONE\" ) \r\n",
        "\r\n",
        "\r\n",
        "\r\n",
        "IN_X1=df_in.to_numpy()\r\n",
        "IN_Y1=df_target.to_numpy()\r\n",
        "\r\n",
        "print(IN_X1.shape)\r\n",
        "print(IN_Y1.shape)\r\n",
        "w=np.where(IN_Y1<1291657)\r\n",
        "IN_Y2=IN_Y1[w[0]]\r\n",
        "IN_X=IN_X1[w[0]]\r\n",
        "\r\n",
        "IN_Y=IN_Y2 #np.copy(IN_Y2)/np.max(IN_Y2)\r\n",
        "\r\n",
        "\r\n",
        "\r\n",
        "\r\n",
        "feat_dim = 28 #Feature size"
      ],
      "execution_count": 5,
      "outputs": [
        {
          "output_type": "stream",
          "text": [
            "(483537, 30)\n",
            "(483537, 1)\n"
          ],
          "name": "stdout"
        }
      ]
    },
    {
      "cell_type": "code",
      "metadata": {
        "colab": {
          "base_uri": "https://localhost:8080/"
        },
        "id": "yu1mn0hb_G8o",
        "outputId": "f3d1e5a9-42f5-4274-b28d-a68003684fc7"
      },
      "source": [
        "print(df_in.shape)"
      ],
      "execution_count": null,
      "outputs": [
        {
          "output_type": "stream",
          "text": [
            "(39850, 30)\n"
          ],
          "name": "stdout"
        }
      ]
    },
    {
      "cell_type": "code",
      "metadata": {
        "id": "-3Bm_Dr9iepO"
      },
      "source": [
        "import keras\r\n",
        "\r\n",
        "X_train_full, X_test, y_train_full, y_test = train_test_split(\r\n",
        "    IN_X.reshape((-1,feat_dim+2)), IN_Y.reshape((-1,1)), test_size=0.1, random_state=2)\r\n",
        "\r\n",
        "\r\n",
        "\r\n",
        "X_train, X_valid, y_train, y_valid = train_test_split(X_train_full, y_train_full, test_size=0.1, random_state=2)\r\n",
        "\r\n",
        "# y_train = keras.utils.to_categorical(y_train) \r\n",
        "# y_valid= keras.utils.to_categorical(y_valid) \r\n",
        "# y_test= keras.utils.to_categorical(y_test) \r\n"
      ],
      "execution_count": 6,
      "outputs": []
    },
    {
      "cell_type": "code",
      "metadata": {
        "id": "tdCeeo_ulBdL"
      },
      "source": [
        "#Data standardizing!\r\n",
        "\r\n",
        "scaler = StandardScaler()\r\n",
        "X_train[:,2:] = scaler.fit_transform(X_train[:,2:])\r\n",
        "X_valid[:,2:] = scaler.transform(X_valid[:,2:])\r\n",
        "X_test[:,2:] = scaler.transform(X_test[:,2:])\r\n",
        "\r\n",
        "y_train = scaler.fit_transform(y_train) \r\n",
        "y_valid = scaler.fit_transform(y_valid) \r\n",
        "y_test = scaler.fit_transform(y_test) "
      ],
      "execution_count": 7,
      "outputs": []
    },
    {
      "cell_type": "code",
      "metadata": {
        "colab": {
          "base_uri": "https://localhost:8080/"
        },
        "id": "l95VGfrrCBpn",
        "outputId": "c6877427-1636-4c47-af62-a37bec6f23c2"
      },
      "source": [
        "y_train[0]"
      ],
      "execution_count": 8,
      "outputs": [
        {
          "output_type": "execute_result",
          "data": {
            "text/plain": [
              "array([-0.22589391])"
            ]
          },
          "metadata": {
            "tags": []
          },
          "execution_count": 8
        }
      ]
    },
    {
      "cell_type": "code",
      "metadata": {
        "id": "bkCIfjgP_ONy"
      },
      "source": [
        "# import tensorflow as tf\r\n",
        "# from tensorflow.keras.layers.experimental.preprocessing import TextVectorization\r\n",
        "# vectorizer = TextVectorization(max_tokens=20000, output_sequence_length=200)\r\n",
        "# text_ds = tf.data.Dataset.from_tensor_slices(X_train[:,0]).batch(512)\r\n",
        "# vectorizer.adapt(text_ds)"
      ],
      "execution_count": null,
      "outputs": []
    },
    {
      "cell_type": "code",
      "metadata": {
        "id": "egG2P9I4ByKi"
      },
      "source": [
        "# voc = vectorizer.get_vocabulary()\r\n",
        "# word_index = dict(zip(voc, range(len(voc))))"
      ],
      "execution_count": null,
      "outputs": []
    },
    {
      "cell_type": "code",
      "metadata": {
        "id": "aj1M5lts_k9x"
      },
      "source": [
        "# path_to_glove_file = \"./glove.6B.300d.txt\"\r\n",
        "\r\n",
        "# embeddings_index = {}\r\n",
        "# with open(path_to_glove_file) as f:\r\n",
        "#     for line in f:\r\n",
        "#         word, coefs = line.split(maxsplit=1)\r\n",
        "#         coefs = np.fromstring(coefs, \"f\", sep=\" \")\r\n",
        "#         embeddings_index[word] = coefs\r\n",
        "\r\n",
        "# print(\"Found %s word vectors.\" % len(embeddings_index))"
      ],
      "execution_count": null,
      "outputs": []
    },
    {
      "cell_type": "code",
      "metadata": {
        "id": "kb2o2Nik_9y8"
      },
      "source": [
        "# num_tokens = len(voc) + 2\r\n",
        "# embedding_dim = 300\r\n",
        "# hits = 0\r\n",
        "# misses = 0\r\n",
        "\r\n",
        "# # Prepare embedding matrix\r\n",
        "# embedding_matrix = np.zeros((num_tokens, embedding_dim))\r\n",
        "# for word, i in word_index.items():\r\n",
        "#     embedding_vector = embeddings_index.get(word)\r\n",
        "#     if embedding_vector is not None:\r\n",
        "#         # Words not found in embedding index will be all-zeros.\r\n",
        "#         # This includes the representation for \"padding\" and \"OOV\"\r\n",
        "#         embedding_matrix[i] = embedding_vector\r\n",
        "#         hits += 1\r\n",
        "#     else:\r\n",
        "#         misses += 1\r\n",
        "# print(\"Converted %d words (%d misses)\" % (hits, misses))"
      ],
      "execution_count": null,
      "outputs": []
    },
    {
      "cell_type": "code",
      "metadata": {
        "id": "JOvBTPnW8J5q"
      },
      "source": [
        "import tensorflow_hub as hub\r\n",
        "\r\n",
        "BertTokenizer = bert.bert_tokenization.FullTokenizer\r\n",
        "bert_layer = hub.KerasLayer(\"https://tfhub.dev/tensorflow/bert_en_uncased_L-12_H-768_A-12/1\",\r\n",
        "                            trainable=False)\r\n",
        "vocabulary_file = bert_layer.resolved_object.vocab_file.asset_path.numpy()\r\n",
        "to_lower_case = bert_layer.resolved_object.do_lower_case.numpy()\r\n",
        "tokenizer = BertTokenizer(vocabulary_file, to_lower_case) "
      ],
      "execution_count": 9,
      "outputs": []
    },
    {
      "cell_type": "code",
      "metadata": {
        "id": "nTe8H_QY8TpR"
      },
      "source": [
        "def tokenize_reviews(text_reviews):\r\n",
        "    # text_reviews\r\n",
        "    # print(tokenizer.tokenize(text_reviews))\r\n",
        "    # print(tokenizer.tokenize(text_reviews))\r\n",
        "    try:\r\n",
        "      out=tokenizer.convert_tokens_to_ids(tokenizer.tokenize(text_reviews))\r\n",
        "    except:\r\n",
        "      out=[0]\r\n",
        "    return out\r\n",
        "\r\n",
        "x_str = [tokenize_reviews(commit_msg) for commit_msg in X_train[:,1]]\r\n",
        "# X_train[1]"
      ],
      "execution_count": 10,
      "outputs": []
    },
    {
      "cell_type": "code",
      "metadata": {
        "id": "e493y02gHzFR"
      },
      "source": [
        "max_length=200\r\n",
        "\r\n",
        "for i in range(len(x_str)):\r\n",
        "  if (len(x_str[i]) <max_length):\r\n",
        "    #padding\r\n",
        "    x_str[i].extend([0]*(max_length-len(x_str[i])))\r\n",
        "  else:\r\n",
        "    x_str[i] = x_str[i][:max_length]\r\n",
        "\r\n"
      ],
      "execution_count": 11,
      "outputs": []
    },
    {
      "cell_type": "code",
      "metadata": {
        "id": "lX3cFjBQx7zt"
      },
      "source": [
        "from tensorflow.keras.layers import Embedding\r\n",
        "\r\n",
        "VOCAB_LENGTH = len(tokenizer.vocab)\r\n",
        "embedding_layer = Embedding(\r\n",
        "    VOCAB_LENGTH,\r\n",
        "    max_length,\r\n",
        "    embeddings_initializer=keras.initializers.RandomUniform(),#keras.initializers.Constant(embedding_matrix),\r\n",
        "    trainable=False,\r\n",
        ")\r\n",
        "def Reg_With_commit():\r\n",
        "    inputs = Input(shape=(feat_dim, 1))\r\n",
        "    inputB = Input(shape=(200))\r\n",
        "\r\n",
        "    y = embedding_layer(inputB)\r\n",
        "    # y = layers.BatchNormalization()(inputB)\r\n",
        "  # model_glove.add(Conv1D(64, 5, activation='relu')) \r\n",
        "  # model_glove.add(MaxPooling1D(pool_size=4))\r\n",
        "    y = layers.Dropout(0.5)(y)\r\n",
        "    y = layers.Conv1D(256, 1, activation=\"relu\")(y)\r\n",
        "    y = layers.MaxPooling1D(pool_size=4)(y)\r\n",
        "    y = layers.Dense(128, activation=\"relu\")(y)\r\n",
        "    y = layers.Flatten()(y)\r\n",
        "    y = layers.Dense(128, activation=\"relu\")(y)\r\n",
        "    y = layers.BatchNormalization()(y)\r\n",
        "\r\n",
        "    # y = Model(inputs=inputB, outputs=y)\r\n",
        "\r\n",
        "    x = layers.BatchNormalization()(inputs)\r\n",
        "    x = layers.LSTM(64, batch_input_shape=(None, feat_dim, 1),return_sequences=True)(x)\r\n",
        "    x = layers.LSTM(64,return_sequences=True)(x)\r\n",
        "    x = layers.Dropout(0.25)(x)\r\n",
        "    x = layers.LSTM(64,return_sequences=False)(x)\r\n",
        "    x = layers.Dense(16)(x)\r\n",
        "    x = layers.BatchNormalization()(x)\r\n",
        "\r\n",
        "    # x = Model(inputs=inputs, outputs=x)\r\n",
        "\r\n",
        "\r\n",
        "    combined = layers.concatenate([x, y],axis=-1)\r\n",
        "    z = layers.Dense(1, activation=\"relu\")(combined)\r\n",
        "\r\n",
        "    model = Model(inputs=[inputs, inputB], outputs=z)\r\n",
        "    return model\r\n",
        "\r\n",
        "def Reg_With_features():\r\n",
        "    inputs = Input(shape=(feat_dim, 1))\r\n",
        "\r\n",
        "    x = layers.BatchNormalization()(inputs)\r\n",
        "    x = layers.LSTM(128, batch_input_shape=(None, feat_dim, 1),return_sequences=True)(x)\r\n",
        "    x = layers.LSTM(64,return_sequences=True)(x)\r\n",
        "    x = layers.LSTM(32,return_sequences=False)(x)\r\n",
        "    x = layers.Dropout(0.25)(x)\r\n",
        "    x = layers.Dense(1)(x)\r\n",
        "    x = Model(inputs=inputs, outputs=x)\r\n",
        "\r\n",
        "\r\n",
        "    return x\r\n"
      ],
      "execution_count": 12,
      "outputs": []
    },
    {
      "cell_type": "code",
      "metadata": {
        "id": "s2c_hi1qMUQM",
        "colab": {
          "base_uri": "https://localhost:8080/"
        },
        "outputId": "dc43f829-8904-4688-df16-9509308963bf"
      },
      "source": [
        "#without commit message\r\n",
        "\r\n",
        "import keras\r\n",
        "import tensorflow.keras.backend as K\r\n",
        "import torch\r\n",
        "\r\n",
        "R_model_H = Reg_With_features()\r\n",
        "\r\n",
        "\r\n",
        "# R_opt = optimizers.RMSprop(lr=1E-3, epsilon=1e-08,decay=0.8E-6)\r\n",
        "R_opt = optimizers.Adamax()\r\n",
        "R_model_H.trainable = True\r\n",
        "R_model_H.compile(optimizer=R_opt, loss='mean_squared_error')\r\n",
        "\r\n",
        "x_num = K.constant(X_train[:,2:])\r\n",
        "x_num_valid = K.constant(X_valid[:,2:])\r\n",
        "\r\n",
        "history = R_model_H.fit(x=x_num,y=y_train,epochs=180,batch_size=256, validation_data=(x_num_valid,y_valid))"
      ],
      "execution_count": 13,
      "outputs": [
        {
          "output_type": "stream",
          "text": [
            "Epoch 1/180\n",
            "1520/1520 [==============================] - 21s 9ms/step - loss: 0.8956 - val_loss: 0.8672\n",
            "Epoch 2/180\n",
            "1520/1520 [==============================] - 13s 9ms/step - loss: 0.8864 - val_loss: 0.8677\n",
            "Epoch 3/180\n",
            "1520/1520 [==============================] - 13s 9ms/step - loss: 0.8642 - val_loss: 0.8362\n",
            "Epoch 4/180\n",
            "1520/1520 [==============================] - 13s 9ms/step - loss: 0.8207 - val_loss: 0.8190\n",
            "Epoch 5/180\n",
            "1520/1520 [==============================] - 13s 9ms/step - loss: 0.8434 - val_loss: 0.7885\n",
            "Epoch 6/180\n",
            "1520/1520 [==============================] - 13s 9ms/step - loss: 0.7934 - val_loss: 0.7573\n",
            "Epoch 7/180\n",
            "1520/1520 [==============================] - 13s 9ms/step - loss: 0.7770 - val_loss: 0.7539\n",
            "Epoch 8/180\n",
            "1520/1520 [==============================] - 13s 9ms/step - loss: 0.7357 - val_loss: 0.7650\n",
            "Epoch 9/180\n",
            "1520/1520 [==============================] - 13s 9ms/step - loss: 0.7737 - val_loss: 0.7159\n",
            "Epoch 10/180\n",
            "1520/1520 [==============================] - 13s 9ms/step - loss: 0.7359 - val_loss: 0.7020\n",
            "Epoch 11/180\n",
            "1520/1520 [==============================] - 13s 9ms/step - loss: 0.7276 - val_loss: 0.7158\n",
            "Epoch 12/180\n",
            "1520/1520 [==============================] - 13s 9ms/step - loss: 0.7139 - val_loss: 0.6981\n",
            "Epoch 13/180\n",
            "1520/1520 [==============================] - 13s 9ms/step - loss: 0.6930 - val_loss: 0.6846\n",
            "Epoch 14/180\n",
            "1520/1520 [==============================] - 14s 9ms/step - loss: 0.7022 - val_loss: 0.7082\n",
            "Epoch 15/180\n",
            "1520/1520 [==============================] - 14s 9ms/step - loss: 0.7121 - val_loss: 0.6756\n",
            "Epoch 16/180\n",
            "1520/1520 [==============================] - 13s 9ms/step - loss: 0.6943 - val_loss: 0.6640\n",
            "Epoch 17/180\n",
            "1520/1520 [==============================] - 13s 9ms/step - loss: 0.6871 - val_loss: 0.6796\n",
            "Epoch 18/180\n",
            "1520/1520 [==============================] - 13s 9ms/step - loss: 0.6955 - val_loss: 0.6559\n",
            "Epoch 19/180\n",
            "1520/1520 [==============================] - 14s 9ms/step - loss: 0.6901 - val_loss: 0.6539\n",
            "Epoch 20/180\n",
            "1520/1520 [==============================] - 13s 9ms/step - loss: 0.6675 - val_loss: 0.6536\n",
            "Epoch 21/180\n",
            "1520/1520 [==============================] - 13s 9ms/step - loss: 0.6873 - val_loss: 0.6458\n",
            "Epoch 22/180\n",
            "1520/1520 [==============================] - 13s 9ms/step - loss: 0.6766 - val_loss: 0.6522\n",
            "Epoch 23/180\n",
            "1520/1520 [==============================] - 13s 9ms/step - loss: 0.6611 - val_loss: 0.6437\n",
            "Epoch 24/180\n",
            "1520/1520 [==============================] - 13s 9ms/step - loss: 0.6633 - val_loss: 0.6552\n",
            "Epoch 25/180\n",
            "1520/1520 [==============================] - 13s 9ms/step - loss: 0.6516 - val_loss: 0.6408\n",
            "Epoch 26/180\n",
            "1520/1520 [==============================] - 13s 9ms/step - loss: 0.6470 - val_loss: 0.6408\n",
            "Epoch 27/180\n",
            "1520/1520 [==============================] - 13s 9ms/step - loss: 0.6513 - val_loss: 0.6504\n",
            "Epoch 28/180\n",
            "1520/1520 [==============================] - 13s 9ms/step - loss: 0.6503 - val_loss: 0.6353\n",
            "Epoch 29/180\n",
            "1520/1520 [==============================] - 13s 9ms/step - loss: 0.6778 - val_loss: 0.6370\n",
            "Epoch 30/180\n",
            "1520/1520 [==============================] - 13s 9ms/step - loss: 0.6429 - val_loss: 0.6329\n",
            "Epoch 31/180\n",
            "1520/1520 [==============================] - 13s 9ms/step - loss: 0.6160 - val_loss: 0.6393\n",
            "Epoch 32/180\n",
            "1520/1520 [==============================] - 13s 9ms/step - loss: 0.6548 - val_loss: 0.6338\n",
            "Epoch 33/180\n",
            "1520/1520 [==============================] - 13s 9ms/step - loss: 0.6436 - val_loss: 0.6287\n",
            "Epoch 34/180\n",
            "1520/1520 [==============================] - 13s 9ms/step - loss: 0.6382 - val_loss: 0.6294\n",
            "Epoch 35/180\n",
            "1520/1520 [==============================] - 13s 9ms/step - loss: 0.6430 - val_loss: 0.6446\n",
            "Epoch 36/180\n",
            "1520/1520 [==============================] - 13s 9ms/step - loss: 0.6359 - val_loss: 0.6348\n",
            "Epoch 37/180\n",
            "1520/1520 [==============================] - 14s 9ms/step - loss: 0.6262 - val_loss: 0.6265\n",
            "Epoch 38/180\n",
            "1520/1520 [==============================] - 14s 9ms/step - loss: 0.6164 - val_loss: 0.6470\n",
            "Epoch 39/180\n",
            "1520/1520 [==============================] - 13s 9ms/step - loss: 0.6228 - val_loss: 0.6169\n",
            "Epoch 40/180\n",
            "1520/1520 [==============================] - 13s 9ms/step - loss: 0.6166 - val_loss: 0.6320\n",
            "Epoch 41/180\n",
            "1520/1520 [==============================] - 13s 9ms/step - loss: 0.6069 - val_loss: 0.6287\n",
            "Epoch 42/180\n",
            "1520/1520 [==============================] - 13s 9ms/step - loss: 0.6307 - val_loss: 0.6276\n",
            "Epoch 43/180\n",
            "1520/1520 [==============================] - 13s 9ms/step - loss: 0.6362 - val_loss: 0.6270\n",
            "Epoch 44/180\n",
            "1520/1520 [==============================] - 13s 9ms/step - loss: 0.6354 - val_loss: 0.6280\n",
            "Epoch 45/180\n",
            "1520/1520 [==============================] - 13s 9ms/step - loss: 0.6130 - val_loss: 0.6211\n",
            "Epoch 46/180\n",
            "1520/1520 [==============================] - 14s 9ms/step - loss: 0.6342 - val_loss: 0.6248\n",
            "Epoch 47/180\n",
            "1520/1520 [==============================] - 13s 9ms/step - loss: 0.6077 - val_loss: 0.6173\n",
            "Epoch 48/180\n",
            "1520/1520 [==============================] - 13s 9ms/step - loss: 0.5989 - val_loss: 0.6255\n",
            "Epoch 49/180\n",
            "1520/1520 [==============================] - 13s 9ms/step - loss: 0.6204 - val_loss: 0.6376\n",
            "Epoch 50/180\n",
            "1520/1520 [==============================] - 13s 9ms/step - loss: 0.6138 - val_loss: 0.6244\n",
            "Epoch 51/180\n",
            "1520/1520 [==============================] - 13s 9ms/step - loss: 0.6051 - val_loss: 0.6082\n",
            "Epoch 52/180\n",
            "1520/1520 [==============================] - 13s 9ms/step - loss: 0.5905 - val_loss: 0.6388\n",
            "Epoch 53/180\n",
            "1520/1520 [==============================] - 14s 9ms/step - loss: 0.5882 - val_loss: 0.6222\n",
            "Epoch 54/180\n",
            "1520/1520 [==============================] - 14s 9ms/step - loss: 0.5973 - val_loss: 0.6215\n",
            "Epoch 55/180\n",
            "1520/1520 [==============================] - 13s 9ms/step - loss: 0.5958 - val_loss: 0.6154\n",
            "Epoch 56/180\n",
            "1520/1520 [==============================] - 14s 9ms/step - loss: 0.5899 - val_loss: 0.6171\n",
            "Epoch 57/180\n",
            "1520/1520 [==============================] - 14s 9ms/step - loss: 0.5803 - val_loss: 0.6069\n",
            "Epoch 58/180\n",
            "1520/1520 [==============================] - 14s 9ms/step - loss: 0.5845 - val_loss: 0.6056\n",
            "Epoch 59/180\n",
            "1520/1520 [==============================] - 14s 9ms/step - loss: 0.5556 - val_loss: 0.6094\n",
            "Epoch 60/180\n",
            "1520/1520 [==============================] - 14s 9ms/step - loss: 0.5948 - val_loss: 0.6104\n",
            "Epoch 61/180\n",
            "1520/1520 [==============================] - 14s 9ms/step - loss: 0.5928 - val_loss: 0.6412\n",
            "Epoch 62/180\n",
            "1520/1520 [==============================] - 14s 9ms/step - loss: 0.5776 - val_loss: 0.6182\n",
            "Epoch 63/180\n",
            "1520/1520 [==============================] - 14s 9ms/step - loss: 0.5606 - val_loss: 0.6034\n",
            "Epoch 64/180\n",
            "1520/1520 [==============================] - 13s 9ms/step - loss: 0.5660 - val_loss: 0.5978\n",
            "Epoch 65/180\n",
            "1520/1520 [==============================] - 14s 9ms/step - loss: 0.5635 - val_loss: 0.6065\n",
            "Epoch 66/180\n",
            "1520/1520 [==============================] - 13s 9ms/step - loss: 0.5605 - val_loss: 0.6102\n",
            "Epoch 67/180\n",
            "1520/1520 [==============================] - 14s 9ms/step - loss: 0.5675 - val_loss: 0.6168\n",
            "Epoch 68/180\n",
            "1520/1520 [==============================] - 14s 9ms/step - loss: 0.5590 - val_loss: 0.6180\n",
            "Epoch 69/180\n",
            "1520/1520 [==============================] - 14s 9ms/step - loss: 0.5583 - val_loss: 0.6099\n",
            "Epoch 70/180\n",
            "1520/1520 [==============================] - 14s 9ms/step - loss: 0.5501 - val_loss: 0.6137\n",
            "Epoch 71/180\n",
            "1520/1520 [==============================] - 14s 9ms/step - loss: 0.5631 - val_loss: 0.6084\n",
            "Epoch 72/180\n",
            "1520/1520 [==============================] - 13s 9ms/step - loss: 0.5626 - val_loss: 0.6211\n",
            "Epoch 73/180\n",
            "1520/1520 [==============================] - 13s 9ms/step - loss: 0.5414 - val_loss: 0.6046\n",
            "Epoch 74/180\n",
            "1520/1520 [==============================] - 13s 9ms/step - loss: 0.5329 - val_loss: 0.6044\n",
            "Epoch 75/180\n",
            "1520/1520 [==============================] - 13s 9ms/step - loss: 0.5419 - val_loss: 0.6117\n",
            "Epoch 76/180\n",
            "1520/1520 [==============================] - 13s 9ms/step - loss: 0.5418 - val_loss: 0.5982\n",
            "Epoch 77/180\n",
            "1520/1520 [==============================] - 14s 9ms/step - loss: 0.5438 - val_loss: 0.6002\n",
            "Epoch 78/180\n",
            "1520/1520 [==============================] - 14s 9ms/step - loss: 0.5401 - val_loss: 0.5976\n",
            "Epoch 79/180\n",
            "1520/1520 [==============================] - 14s 9ms/step - loss: 0.5427 - val_loss: 0.6039\n",
            "Epoch 80/180\n",
            "1520/1520 [==============================] - 14s 9ms/step - loss: 0.5332 - val_loss: 0.6141\n",
            "Epoch 81/180\n",
            "1520/1520 [==============================] - 14s 9ms/step - loss: 0.5465 - val_loss: 0.6178\n",
            "Epoch 82/180\n",
            "1520/1520 [==============================] - 14s 9ms/step - loss: 0.5351 - val_loss: 0.6066\n",
            "Epoch 83/180\n",
            "1520/1520 [==============================] - 14s 9ms/step - loss: 0.5435 - val_loss: 0.6048\n",
            "Epoch 84/180\n",
            "1520/1520 [==============================] - 14s 9ms/step - loss: 0.5212 - val_loss: 0.6000\n",
            "Epoch 85/180\n",
            "1520/1520 [==============================] - 14s 9ms/step - loss: 0.5385 - val_loss: 0.6198\n",
            "Epoch 86/180\n",
            "1520/1520 [==============================] - 14s 9ms/step - loss: 0.5340 - val_loss: 0.6070\n",
            "Epoch 87/180\n",
            "1520/1520 [==============================] - 14s 9ms/step - loss: 0.5254 - val_loss: 0.6010\n",
            "Epoch 88/180\n",
            "1520/1520 [==============================] - 14s 9ms/step - loss: 0.5390 - val_loss: 0.6075\n",
            "Epoch 89/180\n",
            "1520/1520 [==============================] - 14s 9ms/step - loss: 0.5196 - val_loss: 0.6033\n",
            "Epoch 90/180\n",
            "1520/1520 [==============================] - 14s 9ms/step - loss: 0.5183 - val_loss: 0.6050\n",
            "Epoch 91/180\n",
            "1520/1520 [==============================] - 14s 9ms/step - loss: 0.4974 - val_loss: 0.6094\n",
            "Epoch 92/180\n",
            "1520/1520 [==============================] - 14s 9ms/step - loss: 0.5156 - val_loss: 0.6142\n",
            "Epoch 93/180\n",
            "1520/1520 [==============================] - 14s 9ms/step - loss: 0.5040 - val_loss: 0.6009\n",
            "Epoch 94/180\n",
            "1520/1520 [==============================] - 13s 9ms/step - loss: 0.4989 - val_loss: 0.5993\n",
            "Epoch 95/180\n",
            "1520/1520 [==============================] - 14s 9ms/step - loss: 0.4917 - val_loss: 0.5998\n",
            "Epoch 96/180\n",
            "1520/1520 [==============================] - 14s 9ms/step - loss: 0.5114 - val_loss: 0.6201\n",
            "Epoch 97/180\n",
            "1520/1520 [==============================] - 14s 9ms/step - loss: 0.5118 - val_loss: 0.6037\n",
            "Epoch 98/180\n",
            "1520/1520 [==============================] - 14s 9ms/step - loss: 0.4943 - val_loss: 0.6055\n",
            "Epoch 99/180\n",
            "1520/1520 [==============================] - 14s 9ms/step - loss: 0.4873 - val_loss: 0.6042\n",
            "Epoch 100/180\n",
            "1520/1520 [==============================] - 13s 9ms/step - loss: 0.5103 - val_loss: 0.5917\n",
            "Epoch 101/180\n",
            "1520/1520 [==============================] - 14s 9ms/step - loss: 0.4874 - val_loss: 0.6242\n",
            "Epoch 102/180\n",
            "1520/1520 [==============================] - 14s 9ms/step - loss: 0.4953 - val_loss: 0.6569\n",
            "Epoch 103/180\n",
            "1520/1520 [==============================] - 14s 9ms/step - loss: 0.4893 - val_loss: 0.6087\n",
            "Epoch 104/180\n",
            "1520/1520 [==============================] - 14s 9ms/step - loss: 0.4859 - val_loss: 0.6055\n",
            "Epoch 105/180\n",
            "1520/1520 [==============================] - 14s 9ms/step - loss: 0.4824 - val_loss: 0.6107\n",
            "Epoch 106/180\n",
            "1520/1520 [==============================] - 14s 9ms/step - loss: 0.4827 - val_loss: 0.5989\n",
            "Epoch 107/180\n",
            "1520/1520 [==============================] - 14s 9ms/step - loss: 0.4744 - val_loss: 0.6021\n",
            "Epoch 108/180\n",
            "1520/1520 [==============================] - 14s 9ms/step - loss: 0.4813 - val_loss: 0.6264\n",
            "Epoch 109/180\n",
            "1520/1520 [==============================] - 14s 9ms/step - loss: 0.4829 - val_loss: 0.6172\n",
            "Epoch 110/180\n",
            "1520/1520 [==============================] - 14s 9ms/step - loss: 0.4741 - val_loss: 0.6145\n",
            "Epoch 111/180\n",
            "1520/1520 [==============================] - 14s 9ms/step - loss: 0.4853 - val_loss: 0.6106\n",
            "Epoch 112/180\n",
            "1520/1520 [==============================] - 14s 9ms/step - loss: 0.4863 - val_loss: 0.6190\n",
            "Epoch 113/180\n",
            "1520/1520 [==============================] - 14s 9ms/step - loss: 0.4833 - val_loss: 0.6005\n",
            "Epoch 114/180\n",
            "1520/1520 [==============================] - 14s 9ms/step - loss: 0.4806 - val_loss: 0.6026\n",
            "Epoch 115/180\n",
            "1520/1520 [==============================] - 14s 9ms/step - loss: 0.4845 - val_loss: 0.5984\n",
            "Epoch 116/180\n",
            "1520/1520 [==============================] - 14s 9ms/step - loss: 0.4765 - val_loss: 0.6035\n",
            "Epoch 117/180\n",
            "1520/1520 [==============================] - 14s 9ms/step - loss: 0.4661 - val_loss: 0.6217\n",
            "Epoch 118/180\n",
            "1520/1520 [==============================] - 14s 9ms/step - loss: 0.4538 - val_loss: 0.6185\n",
            "Epoch 119/180\n",
            "1520/1520 [==============================] - 14s 9ms/step - loss: 0.4627 - val_loss: 0.6041\n",
            "Epoch 120/180\n",
            "1520/1520 [==============================] - 14s 9ms/step - loss: 0.4550 - val_loss: 0.6020\n",
            "Epoch 121/180\n",
            "1520/1520 [==============================] - 14s 9ms/step - loss: 0.4721 - val_loss: 0.6246\n",
            "Epoch 122/180\n",
            "1520/1520 [==============================] - 14s 9ms/step - loss: 0.4653 - val_loss: 0.6187\n",
            "Epoch 123/180\n",
            "1520/1520 [==============================] - 14s 9ms/step - loss: 0.4593 - val_loss: 0.6211\n",
            "Epoch 124/180\n",
            "1520/1520 [==============================] - 14s 9ms/step - loss: 0.4513 - val_loss: 0.6281\n",
            "Epoch 125/180\n",
            "1520/1520 [==============================] - 14s 9ms/step - loss: 0.4556 - val_loss: 0.6139\n",
            "Epoch 126/180\n",
            "1520/1520 [==============================] - 14s 9ms/step - loss: 0.4665 - val_loss: 0.6122\n",
            "Epoch 127/180\n",
            "1520/1520 [==============================] - 14s 9ms/step - loss: 0.4610 - val_loss: 0.6032\n",
            "Epoch 128/180\n",
            "1520/1520 [==============================] - 14s 9ms/step - loss: 0.4366 - val_loss: 0.6041\n",
            "Epoch 129/180\n",
            "1520/1520 [==============================] - 14s 9ms/step - loss: 0.4370 - val_loss: 0.6081\n",
            "Epoch 130/180\n",
            "1520/1520 [==============================] - 14s 9ms/step - loss: 0.4438 - val_loss: 0.5942\n",
            "Epoch 131/180\n",
            "1520/1520 [==============================] - 13s 9ms/step - loss: 0.4510 - val_loss: 0.6111\n",
            "Epoch 132/180\n",
            "1520/1520 [==============================] - 14s 9ms/step - loss: 0.4605 - val_loss: 0.6173\n",
            "Epoch 133/180\n",
            "1520/1520 [==============================] - 14s 9ms/step - loss: 0.4525 - val_loss: 0.6068\n",
            "Epoch 134/180\n",
            "1520/1520 [==============================] - 14s 9ms/step - loss: 0.4433 - val_loss: 0.6169\n",
            "Epoch 135/180\n",
            "1520/1520 [==============================] - 14s 9ms/step - loss: 0.4340 - val_loss: 0.6116\n",
            "Epoch 136/180\n",
            "1520/1520 [==============================] - 14s 9ms/step - loss: 0.4344 - val_loss: 0.6131\n",
            "Epoch 137/180\n",
            "1520/1520 [==============================] - 14s 9ms/step - loss: 0.4373 - val_loss: 0.6160\n",
            "Epoch 138/180\n",
            "1520/1520 [==============================] - 14s 9ms/step - loss: 0.4330 - val_loss: 0.6046\n",
            "Epoch 139/180\n",
            "1520/1520 [==============================] - 14s 9ms/step - loss: 0.4425 - val_loss: 0.6027\n",
            "Epoch 140/180\n",
            "1520/1520 [==============================] - 14s 9ms/step - loss: 0.4159 - val_loss: 0.6157\n",
            "Epoch 141/180\n",
            "1520/1520 [==============================] - 14s 9ms/step - loss: 0.4283 - val_loss: 0.6145\n",
            "Epoch 142/180\n",
            "1520/1520 [==============================] - 14s 9ms/step - loss: 0.4383 - val_loss: 0.6110\n",
            "Epoch 143/180\n",
            "1520/1520 [==============================] - 14s 9ms/step - loss: 0.4277 - val_loss: 0.6001\n",
            "Epoch 144/180\n",
            "1520/1520 [==============================] - 14s 9ms/step - loss: 0.4202 - val_loss: 0.6293\n",
            "Epoch 145/180\n",
            "1520/1520 [==============================] - 14s 9ms/step - loss: 0.4236 - val_loss: 0.6214\n",
            "Epoch 146/180\n",
            "1520/1520 [==============================] - 14s 9ms/step - loss: 0.4296 - val_loss: 0.6080\n",
            "Epoch 147/180\n",
            "1520/1520 [==============================] - 14s 9ms/step - loss: 0.4229 - val_loss: 0.6154\n",
            "Epoch 148/180\n",
            "1520/1520 [==============================] - 14s 9ms/step - loss: 0.4204 - val_loss: 0.6204\n",
            "Epoch 149/180\n",
            "1520/1520 [==============================] - 14s 9ms/step - loss: 0.4080 - val_loss: 0.6172\n",
            "Epoch 150/180\n",
            "1520/1520 [==============================] - 14s 9ms/step - loss: 0.4216 - val_loss: 0.6261\n",
            "Epoch 151/180\n",
            "1520/1520 [==============================] - 14s 9ms/step - loss: 0.4148 - val_loss: 0.6210\n",
            "Epoch 152/180\n",
            "1520/1520 [==============================] - 14s 9ms/step - loss: 0.4299 - val_loss: 0.6229\n",
            "Epoch 153/180\n",
            "1520/1520 [==============================] - 14s 9ms/step - loss: 0.4231 - val_loss: 0.6311\n",
            "Epoch 154/180\n",
            "1520/1520 [==============================] - 14s 9ms/step - loss: 0.4108 - val_loss: 0.6497\n",
            "Epoch 155/180\n",
            "1520/1520 [==============================] - 14s 9ms/step - loss: 0.4156 - val_loss: 0.6316\n",
            "Epoch 156/180\n",
            "1520/1520 [==============================] - 14s 9ms/step - loss: 0.4051 - val_loss: 0.6154\n",
            "Epoch 157/180\n",
            "1520/1520 [==============================] - 14s 9ms/step - loss: 0.4098 - val_loss: 0.6262\n",
            "Epoch 158/180\n",
            "1520/1520 [==============================] - 14s 9ms/step - loss: 0.4190 - val_loss: 0.6418\n",
            "Epoch 159/180\n",
            "1520/1520 [==============================] - 14s 9ms/step - loss: 0.3886 - val_loss: 0.6193\n",
            "Epoch 160/180\n",
            "1520/1520 [==============================] - 14s 9ms/step - loss: 0.3976 - val_loss: 0.6453\n",
            "Epoch 161/180\n",
            "1520/1520 [==============================] - 14s 9ms/step - loss: 0.3918 - val_loss: 0.6183\n",
            "Epoch 162/180\n",
            "1520/1520 [==============================] - 14s 9ms/step - loss: 0.3874 - val_loss: 0.6381\n",
            "Epoch 163/180\n",
            "1520/1520 [==============================] - 15s 10ms/step - loss: 0.3939 - val_loss: 0.6266\n",
            "Epoch 164/180\n",
            "1520/1520 [==============================] - 14s 9ms/step - loss: 0.3905 - val_loss: 0.6431\n",
            "Epoch 165/180\n",
            "1520/1520 [==============================] - 14s 9ms/step - loss: 0.4045 - val_loss: 0.6358\n",
            "Epoch 166/180\n",
            "1520/1520 [==============================] - 14s 9ms/step - loss: 0.3980 - val_loss: 0.6317\n",
            "Epoch 167/180\n",
            "1520/1520 [==============================] - 14s 9ms/step - loss: 0.3890 - val_loss: 0.6283\n",
            "Epoch 168/180\n",
            "1520/1520 [==============================] - 14s 9ms/step - loss: 0.3843 - val_loss: 0.6244\n",
            "Epoch 169/180\n",
            "1520/1520 [==============================] - 14s 9ms/step - loss: 0.3939 - val_loss: 0.6301\n",
            "Epoch 170/180\n",
            "1520/1520 [==============================] - 14s 9ms/step - loss: 0.3896 - val_loss: 0.6371\n",
            "Epoch 171/180\n",
            "1520/1520 [==============================] - 14s 9ms/step - loss: 0.3921 - val_loss: 0.6256\n",
            "Epoch 172/180\n",
            "1520/1520 [==============================] - 14s 9ms/step - loss: 0.3850 - val_loss: 0.6282\n",
            "Epoch 173/180\n",
            "1520/1520 [==============================] - 14s 9ms/step - loss: 0.3858 - val_loss: 0.6307\n",
            "Epoch 174/180\n",
            "1520/1520 [==============================] - 15s 10ms/step - loss: 0.3895 - val_loss: 0.6106\n",
            "Epoch 175/180\n",
            "1520/1520 [==============================] - 14s 9ms/step - loss: 0.3783 - val_loss: 0.6431\n",
            "Epoch 176/180\n",
            "1520/1520 [==============================] - 14s 9ms/step - loss: 0.3850 - val_loss: 0.6295\n",
            "Epoch 177/180\n",
            "1520/1520 [==============================] - 14s 9ms/step - loss: 0.3849 - val_loss: 0.6294\n",
            "Epoch 178/180\n",
            "1520/1520 [==============================] - 14s 9ms/step - loss: 0.3878 - val_loss: 0.6448\n",
            "Epoch 179/180\n",
            "1520/1520 [==============================] - 14s 9ms/step - loss: 0.3876 - val_loss: 0.6491\n",
            "Epoch 180/180\n",
            "1520/1520 [==============================] - 14s 9ms/step - loss: 0.3761 - val_loss: 0.6169\n"
          ],
          "name": "stdout"
        }
      ]
    },
    {
      "cell_type": "code",
      "metadata": {
        "id": "4CxYD-2MlWaI",
        "colab": {
          "base_uri": "https://localhost:8080/",
          "height": 470
        },
        "outputId": "d6604337-8331-4550-c784-68cb8e62e007"
      },
      "source": [
        "lws = [4, 4]\r\n",
        "ax=pd.DataFrame(history.history).plot(figsize=(8, 5))\r\n",
        "for i, l in enumerate(ax.lines):\r\n",
        "    plt.setp(l, linewidth=lws[i])\r\n",
        "\r\n",
        "plt.grid(True)\r\n",
        "plt.ylabel('MSE')\r\n",
        "plt.xlabel('Epoch')\r\n",
        "plt.rc('font', size=25)\r\n",
        "plt.rc('axes', titlesize=25)\r\n",
        "fig = plt.gcf()\r\n",
        "fig.set_size_inches(10.5, 7.5)\r\n",
        "fig.savefig('MSE.png', dpi=600,bbox_inches = 'tight')\r\n",
        "plt.show()\r\n"
      ],
      "execution_count": 14,
      "outputs": [
        {
          "output_type": "display_data",
          "data": {
            "image/png": "[encoded data removed]",
            "text/plain": [
              "<Figure size 756x540 with 1 Axes>"
            ]
          },
          "metadata": {
            "tags": [],
            "needs_background": "light"
          }
        }
      ]
    },
    {
      "cell_type": "code",
      "metadata": {
        "id": "sRnI2m6EJJgl",
        "colab": {
          "base_uri": "https://localhost:8080/",
          "height": 754
        },
        "outputId": "377a6f7e-f635-4374-e01c-c701465e8d6c"
      },
      "source": [
        "from keras.utils.vis_utils import plot_model\r\n",
        "plot_model(R_model_H,  show_shapes=True, show_layer_names=True)"
      ],
      "execution_count": 15,
      "outputs": [
        {
          "output_type": "execute_result",
          "data": {
            "image/png": "[encoded data removed]",
            "text/plain": [
              "<IPython.core.display.Image object>"
            ]
          },
          "metadata": {
            "tags": []
          },
          "execution_count": 15
        }
      ]
    },
    {
      "cell_type": "code",
      "metadata": {
        "id": "uYWZbNZMigjE",
        "colab": {
          "base_uri": "https://localhost:8080/"
        },
        "outputId": "ca933c16-8f70-4617-fd1d-59c93c99d497"
      },
      "source": [
        "#evaluation\r\n",
        "from sklearn.metrics import r2_score\r\n",
        "\r\n",
        "x_num_valid = K.constant(X_valid[:,2:])\r\n",
        "\r\n",
        "\r\n",
        "o_valid_hat=R_model_H.predict(x=x_num_valid)\r\n",
        "\r\n",
        "coefficient_of_dermination = r2_score(y_valid, o_valid_hat)\r\n",
        "print(coefficient_of_dermination)"
      ],
      "execution_count": 21,
      "outputs": [
        {
          "output_type": "stream",
          "text": [
            "0.38313315058647424\n"
          ],
          "name": "stdout"
        }
      ]
    },
    {
      "cell_type": "code",
      "metadata": {
        "id": "HcsDOjIRiDES"
      },
      "source": [
        "\r\n",
        "ybar = np.sum(y_valid)/len(y_valid) "
      ],
      "execution_count": 22,
      "outputs": []
    },
    {
      "cell_type": "code",
      "metadata": {
        "id": "5mxGWwD2iAPS",
        "colab": {
          "base_uri": "https://localhost:8080/"
        },
        "outputId": "a87c5c52-2cc1-4ab6-f0f6-cb0ac6b9b359"
      },
      "source": [
        "ssreg = np.sum((o_valid_hat-ybar)**2)   # or sum([ (yihat - ybar)**2 for yihat in yhat])\r\n",
        "sstot = np.sum((y_valid - ybar)**2)    # or sum([ (yi - ybar)**2 for yi in y])\r\n",
        "print(ssreg / sstot)"
      ],
      "execution_count": 23,
      "outputs": [
        {
          "output_type": "stream",
          "text": [
            "0.5456746616932686\n"
          ],
          "name": "stdout"
        }
      ]
    },
    {
      "cell_type": "code",
      "metadata": {
        "id": "IdzqgdjdZk4_",
        "colab": {
          "base_uri": "https://localhost:8080/"
        },
        "outputId": "217e212c-a52c-443e-a887-22050e7d9363"
      },
      "source": [
        "#evaluation\r\n",
        "from sklearn.metrics import r2_score\r\n",
        "\r\n",
        "x_num_test = K.constant(X_test[:,2:])\r\n",
        "\r\n",
        "# x_str_test = [tokenize_reviews(commit_msg) for commit_msg in X_test[:,1]]\r\n",
        "print(x_num_test.shape)\r\n",
        "# for i in range(len(x_str_test)):\r\n",
        "#   if (len(x_str_test[i]) <max_length):\r\n",
        "#     #padding\r\n",
        "#     x_str_test[i].extend([0]*(max_length-len(x_str_test[i])))\r\n",
        "#   else:\r\n",
        "#     x_str_test[i] = x_str_test[i][:max_length]\r\n",
        "\r\n",
        "# print(np.array(x_str_test).shape)\r\n",
        "\r\n",
        "o_test_hat=R_model_H.predict(x=x_num_test)\r\n",
        "coefficient_of_dermination_test = r2_score(y_test, o_test_hat)\r\n",
        "print(coefficient_of_dermination_test)"
      ],
      "execution_count": 18,
      "outputs": [
        {
          "output_type": "stream",
          "text": [
            "(48033, 28)\n",
            "0.32284309140178435\n"
          ],
          "name": "stdout"
        }
      ]
    },
    {
      "cell_type": "code",
      "metadata": {
        "id": "mQauEINAi3ku",
        "colab": {
          "base_uri": "https://localhost:8080/"
        },
        "outputId": "fc1b9426-2cc4-4de9-b524-64b1174bfa66"
      },
      "source": [
        "ybar = np.sum(y_test)/len(y_test) \r\n",
        "ssreg = np.sum((o_test_hat-ybar)**2)   # or sum([ (yihat - ybar)**2 for yihat in yhat])\r\n",
        "sstot = np.sum((y_test - ybar)**2)    # or sum([ (yi - ybar)**2 for yi in y])\r\n",
        "print(ssreg / sstot)"
      ],
      "execution_count": 19,
      "outputs": [
        {
          "output_type": "stream",
          "text": [
            "0.49443904451106546\n"
          ],
          "name": "stdout"
        }
      ]
    },
    {
      "cell_type": "code",
      "metadata": {
        "id": "PbxG0oGxay5H"
      },
      "source": [
        ""
      ],
      "execution_count": null,
      "outputs": []
    }
  ]
}